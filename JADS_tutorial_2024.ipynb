{
  "cells": [
    {
      "cell_type": "markdown",
      "metadata": {
        "id": "view-in-github",
        "colab_type": "text"
      },
      "source": [
        "<a href=\"https://colab.research.google.com/github/Thomas-Boot/DE2023/blob/main/JADS_tutorial_2024.ipynb\" target=\"_parent\"><img src=\"https://colab.research.google.com/assets/colab-badge.svg\" alt=\"Open In Colab\"/></a>"
      ]
    },
    {
      "cell_type": "code",
      "execution_count": null,
      "metadata": {
        "colab": {
          "base_uri": "https://localhost:8080/"
        },
        "id": "AxBJHd2ckD0c",
        "outputId": "adad12fd-3376-456d-9444-303c4b95ff06"
      },
      "outputs": [
        {
          "output_type": "stream",
          "name": "stdout",
          "text": [
            "fatal: destination path 'RAGMeUp' already exists and is not an empty directory.\n"
          ]
        }
      ],
      "source": [
        "!git clone https://github.com/AI-Commandos/RAGMeUp.git"
      ]
    },
    {
      "cell_type": "code",
      "execution_count": null,
      "metadata": {
        "id": "bMEDtPbYmVQC"
      },
      "outputs": [],
      "source": [
        "!sed -i '/torch/d' RAGMeUp/server/requirements.txt"
      ]
    },
    {
      "cell_type": "code",
      "execution_count": null,
      "metadata": {
        "colab": {
          "base_uri": "https://localhost:8080/"
        },
        "id": "tyCUnMG4kfb3",
        "outputId": "97313b13-c894-498a-eb01-3d77b137c82f"
      },
      "outputs": [
        {
          "output_type": "stream",
          "name": "stdout",
          "text": [
            "Requirement already satisfied: langchain==0.2.11 in /usr/local/lib/python3.10/dist-packages (from -r RAGMeUp/server/requirements.txt (line 1)) (0.2.11)\n",
            "Requirement already satisfied: langchain-community==0.2.10 in /usr/local/lib/python3.10/dist-packages (from -r RAGMeUp/server/requirements.txt (line 2)) (0.2.10)\n",
            "Requirement already satisfied: langchain-core==0.2.29 in /usr/local/lib/python3.10/dist-packages (from -r RAGMeUp/server/requirements.txt (line 3)) (0.2.29)\n",
            "Requirement already satisfied: langchain_experimental==0.0.64 in /usr/local/lib/python3.10/dist-packages (from -r RAGMeUp/server/requirements.txt (line 4)) (0.0.64)\n",
            "Requirement already satisfied: langchain-huggingface==0.0.3 in /usr/local/lib/python3.10/dist-packages (from -r RAGMeUp/server/requirements.txt (line 5)) (0.0.3)\n",
            "Requirement already satisfied: langchain-postgres==0.0.12 in /usr/local/lib/python3.10/dist-packages (from -r RAGMeUp/server/requirements.txt (line 6)) (0.0.12)\n",
            "Requirement already satisfied: langchain-text-splitters==0.2.1 in /usr/local/lib/python3.10/dist-packages (from -r RAGMeUp/server/requirements.txt (line 7)) (0.2.1)\n",
            "Requirement already satisfied: langchain-milvus==0.1.3 in /usr/local/lib/python3.10/dist-packages (from -r RAGMeUp/server/requirements.txt (line 8)) (0.1.3)\n",
            "Requirement already satisfied: langchain-google-genai==1.0.7 in /usr/local/lib/python3.10/dist-packages (from -r RAGMeUp/server/requirements.txt (line 9)) (1.0.7)\n",
            "Requirement already satisfied: langchain-openai==0.1.9 in /usr/local/lib/python3.10/dist-packages (from -r RAGMeUp/server/requirements.txt (line 10)) (0.1.9)\n",
            "Requirement already satisfied: langchain-ollama==0.1.1 in /usr/local/lib/python3.10/dist-packages (from -r RAGMeUp/server/requirements.txt (line 11)) (0.1.1)\n",
            "Requirement already satisfied: sentence-transformers==2.6.1 in /usr/local/lib/python3.10/dist-packages (from -r RAGMeUp/server/requirements.txt (line 12)) (2.6.1)\n",
            "Requirement already satisfied: transformers==4.43.1 in /usr/local/lib/python3.10/dist-packages (from -r RAGMeUp/server/requirements.txt (line 13)) (4.43.1)\n",
            "Requirement already satisfied: bitsandbytes==0.42.0 in /usr/local/lib/python3.10/dist-packages (from -r RAGMeUp/server/requirements.txt (line 14)) (0.42.0)\n",
            "Requirement already satisfied: flask in /usr/local/lib/python3.10/dist-packages (from -r RAGMeUp/server/requirements.txt (line 15)) (3.0.3)\n",
            "Requirement already satisfied: python-dotenv==1.0.1 in /usr/local/lib/python3.10/dist-packages (from -r RAGMeUp/server/requirements.txt (line 16)) (1.0.1)\n",
            "Requirement already satisfied: docx2txt==0.8 in /usr/local/lib/python3.10/dist-packages (from -r RAGMeUp/server/requirements.txt (line 17)) (0.8)\n",
            "Requirement already satisfied: unstructured==0.14.3 in /usr/local/lib/python3.10/dist-packages (from -r RAGMeUp/server/requirements.txt (line 18)) (0.14.3)\n",
            "Requirement already satisfied: unstructured-client==0.22.0 in /usr/local/lib/python3.10/dist-packages (from -r RAGMeUp/server/requirements.txt (line 19)) (0.22.0)\n",
            "Requirement already satisfied: XlsxWriter==3.2.0 in /usr/local/lib/python3.10/dist-packages (from -r RAGMeUp/server/requirements.txt (line 20)) (3.2.0)\n",
            "Requirement already satisfied: python-pptx==0.6.23 in /usr/local/lib/python3.10/dist-packages (from -r RAGMeUp/server/requirements.txt (line 21)) (0.6.23)\n",
            "Requirement already satisfied: openpyxl==3.1.3 in /usr/local/lib/python3.10/dist-packages (from -r RAGMeUp/server/requirements.txt (line 22)) (3.1.3)\n",
            "Requirement already satisfied: tqdm in /usr/local/lib/python3.10/dist-packages (from -r RAGMeUp/server/requirements.txt (line 23)) (4.66.6)\n",
            "Requirement already satisfied: milvus-lite==2.4.7 in /usr/local/lib/python3.10/dist-packages (from -r RAGMeUp/server/requirements.txt (line 24)) (2.4.7)\n",
            "Requirement already satisfied: pymilvus==2.4.3 in /usr/local/lib/python3.10/dist-packages (from -r RAGMeUp/server/requirements.txt (line 25)) (2.4.3)\n",
            "Requirement already satisfied: lxml==5.1.0 in /usr/local/lib/python3.10/dist-packages (from -r RAGMeUp/server/requirements.txt (line 26)) (5.1.0)\n",
            "Requirement already satisfied: rank_bm25 in /usr/local/lib/python3.10/dist-packages (from -r RAGMeUp/server/requirements.txt (line 27)) (0.2.2)\n",
            "Requirement already satisfied: openai==1.35.3 in /usr/local/lib/python3.10/dist-packages (from -r RAGMeUp/server/requirements.txt (line 28)) (1.35.3)\n",
            "Requirement already satisfied: google-ai-generativelanguage==0.6.6 in /usr/local/lib/python3.10/dist-packages (from -r RAGMeUp/server/requirements.txt (line 29)) (0.6.6)\n",
            "Requirement already satisfied: pillow==10.4.0 in /usr/local/lib/python3.10/dist-packages (from -r RAGMeUp/server/requirements.txt (line 30)) (10.4.0)\n",
            "Requirement already satisfied: ragas==0.1.15 in /usr/local/lib/python3.10/dist-packages (from -r RAGMeUp/server/requirements.txt (line 31)) (0.1.15)\n",
            "Requirement already satisfied: jq in /usr/local/lib/python3.10/dist-packages (from -r RAGMeUp/server/requirements.txt (line 32)) (1.8.0)\n",
            "Requirement already satisfied: flashrank in /usr/local/lib/python3.10/dist-packages (from -r RAGMeUp/server/requirements.txt (line 33)) (0.2.9)\n",
            "Requirement already satisfied: accelerate==0.34.0 in /usr/local/lib/python3.10/dist-packages (from -r RAGMeUp/server/requirements.txt (line 34)) (0.34.0)\n",
            "Requirement already satisfied: pydantic==2.7.4 in /usr/local/lib/python3.10/dist-packages (from -r RAGMeUp/server/requirements.txt (line 35)) (2.7.4)\n",
            "Requirement already satisfied: pydantic_core==2.18.4 in /usr/local/lib/python3.10/dist-packages (from -r RAGMeUp/server/requirements.txt (line 36)) (2.18.4)\n",
            "Requirement already satisfied: psycopg2-binary==2.9.9 in /usr/local/lib/python3.10/dist-packages (from -r RAGMeUp/server/requirements.txt (line 37)) (2.9.9)\n",
            "Requirement already satisfied: PyYAML>=5.3 in /usr/local/lib/python3.10/dist-packages (from langchain==0.2.11->-r RAGMeUp/server/requirements.txt (line 1)) (6.0.2)\n",
            "Requirement already satisfied: SQLAlchemy<3,>=1.4 in /usr/local/lib/python3.10/dist-packages (from langchain==0.2.11->-r RAGMeUp/server/requirements.txt (line 1)) (2.0.36)\n",
            "Requirement already satisfied: aiohttp<4.0.0,>=3.8.3 in /usr/local/lib/python3.10/dist-packages (from langchain==0.2.11->-r RAGMeUp/server/requirements.txt (line 1)) (3.10.10)\n",
            "Requirement already satisfied: async-timeout<5.0.0,>=4.0.0 in /usr/local/lib/python3.10/dist-packages (from langchain==0.2.11->-r RAGMeUp/server/requirements.txt (line 1)) (4.0.3)\n",
            "Requirement already satisfied: langsmith<0.2.0,>=0.1.17 in /usr/local/lib/python3.10/dist-packages (from langchain==0.2.11->-r RAGMeUp/server/requirements.txt (line 1)) (0.1.142)\n",
            "Requirement already satisfied: numpy<2,>=1 in /usr/local/lib/python3.10/dist-packages (from langchain==0.2.11->-r RAGMeUp/server/requirements.txt (line 1)) (1.26.4)\n",
            "Requirement already satisfied: requests<3,>=2 in /usr/local/lib/python3.10/dist-packages (from langchain==0.2.11->-r RAGMeUp/server/requirements.txt (line 1)) (2.32.3)\n",
            "Requirement already satisfied: tenacity!=8.4.0,<9.0.0,>=8.1.0 in /usr/local/lib/python3.10/dist-packages (from langchain==0.2.11->-r RAGMeUp/server/requirements.txt (line 1)) (8.5.0)\n",
            "Requirement already satisfied: dataclasses-json<0.7,>=0.5.7 in /usr/local/lib/python3.10/dist-packages (from langchain-community==0.2.10->-r RAGMeUp/server/requirements.txt (line 2)) (0.6.7)\n",
            "Requirement already satisfied: jsonpatch<2.0,>=1.33 in /usr/local/lib/python3.10/dist-packages (from langchain-core==0.2.29->-r RAGMeUp/server/requirements.txt (line 3)) (1.33)\n",
            "Requirement already satisfied: packaging<25,>=23.2 in /usr/local/lib/python3.10/dist-packages (from langchain-core==0.2.29->-r RAGMeUp/server/requirements.txt (line 3)) (24.2)\n",
            "Requirement already satisfied: typing-extensions>=4.7 in /usr/local/lib/python3.10/dist-packages (from langchain-core==0.2.29->-r RAGMeUp/server/requirements.txt (line 3)) (4.12.2)\n",
            "Requirement already satisfied: huggingface-hub>=0.23.0 in /usr/local/lib/python3.10/dist-packages (from langchain-huggingface==0.0.3->-r RAGMeUp/server/requirements.txt (line 5)) (0.26.2)\n",
            "Requirement already satisfied: tokenizers>=0.19.1 in /usr/local/lib/python3.10/dist-packages (from langchain-huggingface==0.0.3->-r RAGMeUp/server/requirements.txt (line 5)) (0.19.1)\n",
            "Requirement already satisfied: pgvector<0.3.0,>=0.2.5 in /usr/local/lib/python3.10/dist-packages (from langchain-postgres==0.0.12->-r RAGMeUp/server/requirements.txt (line 6)) (0.2.5)\n",
            "Requirement already satisfied: psycopg<4,>=3 in /usr/local/lib/python3.10/dist-packages (from langchain-postgres==0.0.12->-r RAGMeUp/server/requirements.txt (line 6)) (3.2.3)\n",
            "Requirement already satisfied: psycopg-pool<4.0.0,>=3.2.1 in /usr/local/lib/python3.10/dist-packages (from langchain-postgres==0.0.12->-r RAGMeUp/server/requirements.txt (line 6)) (3.2.3)\n",
            "Requirement already satisfied: scipy<2.0,>=1.7 in /usr/local/lib/python3.10/dist-packages (from langchain-milvus==0.1.3->-r RAGMeUp/server/requirements.txt (line 8)) (1.13.1)\n",
            "Requirement already satisfied: google-generativeai<0.8.0,>=0.7.0 in /usr/local/lib/python3.10/dist-packages (from langchain-google-genai==1.0.7->-r RAGMeUp/server/requirements.txt (line 9)) (0.7.2)\n",
            "Requirement already satisfied: tiktoken<1,>=0.7 in /usr/local/lib/python3.10/dist-packages (from langchain-openai==0.1.9->-r RAGMeUp/server/requirements.txt (line 10)) (0.8.0)\n",
            "Requirement already satisfied: ollama<1,>=0.3.0 in /usr/local/lib/python3.10/dist-packages (from langchain-ollama==0.1.1->-r RAGMeUp/server/requirements.txt (line 11)) (0.3.3)\n",
            "Requirement already satisfied: torch>=1.11.0 in /usr/local/lib/python3.10/dist-packages (from sentence-transformers==2.6.1->-r RAGMeUp/server/requirements.txt (line 12)) (2.5.0+cu121)\n",
            "Requirement already satisfied: scikit-learn in /usr/local/lib/python3.10/dist-packages (from sentence-transformers==2.6.1->-r RAGMeUp/server/requirements.txt (line 12)) (1.5.2)\n",
            "Requirement already satisfied: filelock in /usr/local/lib/python3.10/dist-packages (from transformers==4.43.1->-r RAGMeUp/server/requirements.txt (line 13)) (3.16.1)\n",
            "Requirement already satisfied: regex!=2019.12.17 in /usr/local/lib/python3.10/dist-packages (from transformers==4.43.1->-r RAGMeUp/server/requirements.txt (line 13)) (2024.9.11)\n",
            "Requirement already satisfied: safetensors>=0.4.1 in /usr/local/lib/python3.10/dist-packages (from transformers==4.43.1->-r RAGMeUp/server/requirements.txt (line 13)) (0.4.5)\n",
            "Requirement already satisfied: chardet in /usr/local/lib/python3.10/dist-packages (from unstructured==0.14.3->-r RAGMeUp/server/requirements.txt (line 18)) (5.2.0)\n",
            "Requirement already satisfied: filetype in /usr/local/lib/python3.10/dist-packages (from unstructured==0.14.3->-r RAGMeUp/server/requirements.txt (line 18)) (1.2.0)\n",
            "Requirement already satisfied: python-magic in /usr/local/lib/python3.10/dist-packages (from unstructured==0.14.3->-r RAGMeUp/server/requirements.txt (line 18)) (0.4.27)\n",
            "Requirement already satisfied: nltk in /usr/local/lib/python3.10/dist-packages (from unstructured==0.14.3->-r RAGMeUp/server/requirements.txt (line 18)) (3.9.1)\n",
            "Requirement already satisfied: tabulate in /usr/local/lib/python3.10/dist-packages (from unstructured==0.14.3->-r RAGMeUp/server/requirements.txt (line 18)) (0.9.0)\n",
            "Requirement already satisfied: beautifulsoup4 in /usr/local/lib/python3.10/dist-packages (from unstructured==0.14.3->-r RAGMeUp/server/requirements.txt (line 18)) (4.12.3)\n",
            "Requirement already satisfied: emoji in /usr/local/lib/python3.10/dist-packages (from unstructured==0.14.3->-r RAGMeUp/server/requirements.txt (line 18)) (2.14.0)\n",
            "Requirement already satisfied: python-iso639 in /usr/local/lib/python3.10/dist-packages (from unstructured==0.14.3->-r RAGMeUp/server/requirements.txt (line 18)) (2024.10.22)\n",
            "Requirement already satisfied: langdetect in /usr/local/lib/python3.10/dist-packages (from unstructured==0.14.3->-r RAGMeUp/server/requirements.txt (line 18)) (1.0.9)\n",
            "Requirement already satisfied: rapidfuzz in /usr/local/lib/python3.10/dist-packages (from unstructured==0.14.3->-r RAGMeUp/server/requirements.txt (line 18)) (3.10.1)\n",
            "Requirement already satisfied: backoff in /usr/local/lib/python3.10/dist-packages (from unstructured==0.14.3->-r RAGMeUp/server/requirements.txt (line 18)) (2.2.1)\n",
            "Requirement already satisfied: wrapt in /usr/local/lib/python3.10/dist-packages (from unstructured==0.14.3->-r RAGMeUp/server/requirements.txt (line 18)) (1.16.0)\n",
            "Requirement already satisfied: certifi>=2023.7.22 in /usr/local/lib/python3.10/dist-packages (from unstructured-client==0.22.0->-r RAGMeUp/server/requirements.txt (line 19)) (2024.8.30)\n",
            "Requirement already satisfied: charset-normalizer>=3.2.0 in /usr/local/lib/python3.10/dist-packages (from unstructured-client==0.22.0->-r RAGMeUp/server/requirements.txt (line 19)) (3.4.0)\n",
            "Requirement already satisfied: deepdiff>=6.0 in /usr/local/lib/python3.10/dist-packages (from unstructured-client==0.22.0->-r RAGMeUp/server/requirements.txt (line 19)) (8.0.1)\n",
            "Requirement already satisfied: idna>=3.4 in /usr/local/lib/python3.10/dist-packages (from unstructured-client==0.22.0->-r RAGMeUp/server/requirements.txt (line 19)) (3.10)\n",
            "Requirement already satisfied: jsonpath-python>=1.0.6 in /usr/local/lib/python3.10/dist-packages (from unstructured-client==0.22.0->-r RAGMeUp/server/requirements.txt (line 19)) (1.0.6)\n",
            "Requirement already satisfied: marshmallow>=3.19.0 in /usr/local/lib/python3.10/dist-packages (from unstructured-client==0.22.0->-r RAGMeUp/server/requirements.txt (line 19)) (3.23.1)\n",
            "Requirement already satisfied: mypy-extensions>=1.0.0 in /usr/local/lib/python3.10/dist-packages (from unstructured-client==0.22.0->-r RAGMeUp/server/requirements.txt (line 19)) (1.0.0)\n",
            "Requirement already satisfied: pypdf>=4.0 in /usr/local/lib/python3.10/dist-packages (from unstructured-client==0.22.0->-r RAGMeUp/server/requirements.txt (line 19)) (5.1.0)\n",
            "Requirement already satisfied: python-dateutil>=2.8.2 in /usr/local/lib/python3.10/dist-packages (from unstructured-client==0.22.0->-r RAGMeUp/server/requirements.txt (line 19)) (2.8.2)\n",
            "Requirement already satisfied: six>=1.16.0 in /usr/local/lib/python3.10/dist-packages (from unstructured-client==0.22.0->-r RAGMeUp/server/requirements.txt (line 19)) (1.16.0)\n",
            "Requirement already satisfied: typing-inspect>=0.9.0 in /usr/local/lib/python3.10/dist-packages (from unstructured-client==0.22.0->-r RAGMeUp/server/requirements.txt (line 19)) (0.9.0)\n",
            "Requirement already satisfied: urllib3>=1.26.18 in /usr/local/lib/python3.10/dist-packages (from unstructured-client==0.22.0->-r RAGMeUp/server/requirements.txt (line 19)) (2.2.3)\n",
            "Requirement already satisfied: et-xmlfile in /usr/local/lib/python3.10/dist-packages (from openpyxl==3.1.3->-r RAGMeUp/server/requirements.txt (line 22)) (2.0.0)\n",
            "Requirement already satisfied: setuptools>=67 in /usr/local/lib/python3.10/dist-packages (from pymilvus==2.4.3->-r RAGMeUp/server/requirements.txt (line 25)) (75.1.0)\n",
            "Requirement already satisfied: grpcio<=1.63.0,>=1.49.1 in /usr/local/lib/python3.10/dist-packages (from pymilvus==2.4.3->-r RAGMeUp/server/requirements.txt (line 25)) (1.63.0)\n",
            "Requirement already satisfied: protobuf>=3.20.0 in /usr/local/lib/python3.10/dist-packages (from pymilvus==2.4.3->-r RAGMeUp/server/requirements.txt (line 25)) (4.25.5)\n",
            "Requirement already satisfied: environs<=9.5.0 in /usr/local/lib/python3.10/dist-packages (from pymilvus==2.4.3->-r RAGMeUp/server/requirements.txt (line 25)) (9.5.0)\n",
            "Requirement already satisfied: ujson>=2.0.0 in /usr/local/lib/python3.10/dist-packages (from pymilvus==2.4.3->-r RAGMeUp/server/requirements.txt (line 25)) (5.10.0)\n",
            "Requirement already satisfied: pandas>=1.2.4 in /usr/local/lib/python3.10/dist-packages (from pymilvus==2.4.3->-r RAGMeUp/server/requirements.txt (line 25)) (2.2.2)\n",
            "Requirement already satisfied: anyio<5,>=3.5.0 in /usr/local/lib/python3.10/dist-packages (from openai==1.35.3->-r RAGMeUp/server/requirements.txt (line 28)) (3.7.1)\n",
            "Requirement already satisfied: distro<2,>=1.7.0 in /usr/local/lib/python3.10/dist-packages (from openai==1.35.3->-r RAGMeUp/server/requirements.txt (line 28)) (1.9.0)\n",
            "Requirement already satisfied: httpx<1,>=0.23.0 in /usr/local/lib/python3.10/dist-packages (from openai==1.35.3->-r RAGMeUp/server/requirements.txt (line 28)) (0.27.2)\n",
            "Requirement already satisfied: sniffio in /usr/local/lib/python3.10/dist-packages (from openai==1.35.3->-r RAGMeUp/server/requirements.txt (line 28)) (1.3.1)\n",
            "Requirement already satisfied: google-api-core!=2.0.*,!=2.1.*,!=2.10.*,!=2.2.*,!=2.3.*,!=2.4.*,!=2.5.*,!=2.6.*,!=2.7.*,!=2.8.*,!=2.9.*,<3.0.0dev,>=1.34.1 in /usr/local/lib/python3.10/dist-packages (from google-api-core[grpc]!=2.0.*,!=2.1.*,!=2.10.*,!=2.2.*,!=2.3.*,!=2.4.*,!=2.5.*,!=2.6.*,!=2.7.*,!=2.8.*,!=2.9.*,<3.0.0dev,>=1.34.1->google-ai-generativelanguage==0.6.6->-r RAGMeUp/server/requirements.txt (line 29)) (2.19.2)\n",
            "Requirement already satisfied: google-auth!=2.24.0,!=2.25.0,<3.0.0dev,>=2.14.1 in /usr/local/lib/python3.10/dist-packages (from google-ai-generativelanguage==0.6.6->-r RAGMeUp/server/requirements.txt (line 29)) (2.27.0)\n",
            "Requirement already satisfied: proto-plus<2.0.0dev,>=1.22.3 in /usr/local/lib/python3.10/dist-packages (from google-ai-generativelanguage==0.6.6->-r RAGMeUp/server/requirements.txt (line 29)) (1.25.0)\n",
            "Requirement already satisfied: datasets in /usr/local/lib/python3.10/dist-packages (from ragas==0.1.15->-r RAGMeUp/server/requirements.txt (line 31)) (3.1.0)\n",
            "Requirement already satisfied: pysbd>=0.3.4 in /usr/local/lib/python3.10/dist-packages (from ragas==0.1.15->-r RAGMeUp/server/requirements.txt (line 31)) (0.3.4)\n",
            "Requirement already satisfied: nest-asyncio in /usr/local/lib/python3.10/dist-packages (from ragas==0.1.15->-r RAGMeUp/server/requirements.txt (line 31)) (1.6.0)\n",
            "Requirement already satisfied: appdirs in /usr/local/lib/python3.10/dist-packages (from ragas==0.1.15->-r RAGMeUp/server/requirements.txt (line 31)) (1.4.4)\n",
            "Requirement already satisfied: psutil in /usr/local/lib/python3.10/dist-packages (from accelerate==0.34.0->-r RAGMeUp/server/requirements.txt (line 34)) (5.9.5)\n",
            "Requirement already satisfied: annotated-types>=0.4.0 in /usr/local/lib/python3.10/dist-packages (from pydantic==2.7.4->-r RAGMeUp/server/requirements.txt (line 35)) (0.7.0)\n",
            "Requirement already satisfied: Werkzeug>=3.0.0 in /usr/local/lib/python3.10/dist-packages (from flask->-r RAGMeUp/server/requirements.txt (line 15)) (3.1.3)\n",
            "Requirement already satisfied: Jinja2>=3.1.2 in /usr/local/lib/python3.10/dist-packages (from flask->-r RAGMeUp/server/requirements.txt (line 15)) (3.1.4)\n",
            "Requirement already satisfied: itsdangerous>=2.1.2 in /usr/local/lib/python3.10/dist-packages (from flask->-r RAGMeUp/server/requirements.txt (line 15)) (2.2.0)\n",
            "Requirement already satisfied: click>=8.1.3 in /usr/local/lib/python3.10/dist-packages (from flask->-r RAGMeUp/server/requirements.txt (line 15)) (8.1.7)\n",
            "Requirement already satisfied: blinker>=1.6.2 in /usr/local/lib/python3.10/dist-packages (from flask->-r RAGMeUp/server/requirements.txt (line 15)) (1.9.0)\n",
            "Requirement already satisfied: onnxruntime in /usr/local/lib/python3.10/dist-packages (from flashrank->-r RAGMeUp/server/requirements.txt (line 33)) (1.20.0)\n",
            "Requirement already satisfied: aiohappyeyeballs>=2.3.0 in /usr/local/lib/python3.10/dist-packages (from aiohttp<4.0.0,>=3.8.3->langchain==0.2.11->-r RAGMeUp/server/requirements.txt (line 1)) (2.4.3)\n",
            "Requirement already satisfied: aiosignal>=1.1.2 in /usr/local/lib/python3.10/dist-packages (from aiohttp<4.0.0,>=3.8.3->langchain==0.2.11->-r RAGMeUp/server/requirements.txt (line 1)) (1.3.1)\n",
            "Requirement already satisfied: attrs>=17.3.0 in /usr/local/lib/python3.10/dist-packages (from aiohttp<4.0.0,>=3.8.3->langchain==0.2.11->-r RAGMeUp/server/requirements.txt (line 1)) (24.2.0)\n",
            "Requirement already satisfied: frozenlist>=1.1.1 in /usr/local/lib/python3.10/dist-packages (from aiohttp<4.0.0,>=3.8.3->langchain==0.2.11->-r RAGMeUp/server/requirements.txt (line 1)) (1.5.0)\n",
            "Requirement already satisfied: multidict<7.0,>=4.5 in /usr/local/lib/python3.10/dist-packages (from aiohttp<4.0.0,>=3.8.3->langchain==0.2.11->-r RAGMeUp/server/requirements.txt (line 1)) (6.1.0)\n",
            "Requirement already satisfied: yarl<2.0,>=1.12.0 in /usr/local/lib/python3.10/dist-packages (from aiohttp<4.0.0,>=3.8.3->langchain==0.2.11->-r RAGMeUp/server/requirements.txt (line 1)) (1.17.1)\n",
            "Requirement already satisfied: exceptiongroup in /usr/local/lib/python3.10/dist-packages (from anyio<5,>=3.5.0->openai==1.35.3->-r RAGMeUp/server/requirements.txt (line 28)) (1.2.2)\n",
            "Requirement already satisfied: orderly-set==5.2.2 in /usr/local/lib/python3.10/dist-packages (from deepdiff>=6.0->unstructured-client==0.22.0->-r RAGMeUp/server/requirements.txt (line 19)) (5.2.2)\n",
            "Requirement already satisfied: googleapis-common-protos<2.0.dev0,>=1.56.2 in /usr/local/lib/python3.10/dist-packages (from google-api-core!=2.0.*,!=2.1.*,!=2.10.*,!=2.2.*,!=2.3.*,!=2.4.*,!=2.5.*,!=2.6.*,!=2.7.*,!=2.8.*,!=2.9.*,<3.0.0dev,>=1.34.1->google-api-core[grpc]!=2.0.*,!=2.1.*,!=2.10.*,!=2.2.*,!=2.3.*,!=2.4.*,!=2.5.*,!=2.6.*,!=2.7.*,!=2.8.*,!=2.9.*,<3.0.0dev,>=1.34.1->google-ai-generativelanguage==0.6.6->-r RAGMeUp/server/requirements.txt (line 29)) (1.65.0)\n",
            "Requirement already satisfied: grpcio-status<2.0.dev0,>=1.33.2 in /usr/local/lib/python3.10/dist-packages (from google-api-core[grpc]!=2.0.*,!=2.1.*,!=2.10.*,!=2.2.*,!=2.3.*,!=2.4.*,!=2.5.*,!=2.6.*,!=2.7.*,!=2.8.*,!=2.9.*,<3.0.0dev,>=1.34.1->google-ai-generativelanguage==0.6.6->-r RAGMeUp/server/requirements.txt (line 29)) (1.62.3)\n",
            "Requirement already satisfied: cachetools<6.0,>=2.0.0 in /usr/local/lib/python3.10/dist-packages (from google-auth!=2.24.0,!=2.25.0,<3.0.0dev,>=2.14.1->google-ai-generativelanguage==0.6.6->-r RAGMeUp/server/requirements.txt (line 29)) (5.5.0)\n",
            "Requirement already satisfied: pyasn1-modules>=0.2.1 in /usr/local/lib/python3.10/dist-packages (from google-auth!=2.24.0,!=2.25.0,<3.0.0dev,>=2.14.1->google-ai-generativelanguage==0.6.6->-r RAGMeUp/server/requirements.txt (line 29)) (0.4.1)\n",
            "Requirement already satisfied: rsa<5,>=3.1.4 in /usr/local/lib/python3.10/dist-packages (from google-auth!=2.24.0,!=2.25.0,<3.0.0dev,>=2.14.1->google-ai-generativelanguage==0.6.6->-r RAGMeUp/server/requirements.txt (line 29)) (4.9)\n",
            "Requirement already satisfied: google-api-python-client in /usr/local/lib/python3.10/dist-packages (from google-generativeai<0.8.0,>=0.7.0->langchain-google-genai==1.0.7->-r RAGMeUp/server/requirements.txt (line 9)) (2.151.0)\n",
            "Requirement already satisfied: httpcore==1.* in /usr/local/lib/python3.10/dist-packages (from httpx<1,>=0.23.0->openai==1.35.3->-r RAGMeUp/server/requirements.txt (line 28)) (1.0.6)\n",
            "Requirement already satisfied: h11<0.15,>=0.13 in /usr/local/lib/python3.10/dist-packages (from httpcore==1.*->httpx<1,>=0.23.0->openai==1.35.3->-r RAGMeUp/server/requirements.txt (line 28)) (0.14.0)\n",
            "Requirement already satisfied: fsspec>=2023.5.0 in /usr/local/lib/python3.10/dist-packages (from huggingface-hub>=0.23.0->langchain-huggingface==0.0.3->-r RAGMeUp/server/requirements.txt (line 5)) (2024.9.0)\n",
            "Requirement already satisfied: MarkupSafe>=2.0 in /usr/local/lib/python3.10/dist-packages (from Jinja2>=3.1.2->flask->-r RAGMeUp/server/requirements.txt (line 15)) (3.0.2)\n",
            "Requirement already satisfied: jsonpointer>=1.9 in /usr/local/lib/python3.10/dist-packages (from jsonpatch<2.0,>=1.33->langchain-core==0.2.29->-r RAGMeUp/server/requirements.txt (line 3)) (3.0.0)\n",
            "Requirement already satisfied: orjson<4.0.0,>=3.9.14 in /usr/local/lib/python3.10/dist-packages (from langsmith<0.2.0,>=0.1.17->langchain==0.2.11->-r RAGMeUp/server/requirements.txt (line 1)) (3.10.11)\n",
            "Requirement already satisfied: requests-toolbelt<2.0.0,>=1.0.0 in /usr/local/lib/python3.10/dist-packages (from langsmith<0.2.0,>=0.1.17->langchain==0.2.11->-r RAGMeUp/server/requirements.txt (line 1)) (1.0.0)\n",
            "Requirement already satisfied: pytz>=2020.1 in /usr/local/lib/python3.10/dist-packages (from pandas>=1.2.4->pymilvus==2.4.3->-r RAGMeUp/server/requirements.txt (line 25)) (2024.2)\n",
            "Requirement already satisfied: tzdata>=2022.7 in /usr/local/lib/python3.10/dist-packages (from pandas>=1.2.4->pymilvus==2.4.3->-r RAGMeUp/server/requirements.txt (line 25)) (2024.2)\n",
            "Requirement already satisfied: greenlet!=0.4.17 in /usr/local/lib/python3.10/dist-packages (from SQLAlchemy<3,>=1.4->langchain==0.2.11->-r RAGMeUp/server/requirements.txt (line 1)) (3.1.1)\n",
            "Requirement already satisfied: networkx in /usr/local/lib/python3.10/dist-packages (from torch>=1.11.0->sentence-transformers==2.6.1->-r RAGMeUp/server/requirements.txt (line 12)) (3.4.2)\n",
            "Requirement already satisfied: sympy==1.13.1 in /usr/local/lib/python3.10/dist-packages (from torch>=1.11.0->sentence-transformers==2.6.1->-r RAGMeUp/server/requirements.txt (line 12)) (1.13.1)\n",
            "Requirement already satisfied: mpmath<1.4,>=1.1.0 in /usr/local/lib/python3.10/dist-packages (from sympy==1.13.1->torch>=1.11.0->sentence-transformers==2.6.1->-r RAGMeUp/server/requirements.txt (line 12)) (1.3.0)\n",
            "Requirement already satisfied: soupsieve>1.2 in /usr/local/lib/python3.10/dist-packages (from beautifulsoup4->unstructured==0.14.3->-r RAGMeUp/server/requirements.txt (line 18)) (2.6)\n",
            "Requirement already satisfied: pyarrow>=15.0.0 in /usr/local/lib/python3.10/dist-packages (from datasets->ragas==0.1.15->-r RAGMeUp/server/requirements.txt (line 31)) (17.0.0)\n",
            "Requirement already satisfied: dill<0.3.9,>=0.3.0 in /usr/local/lib/python3.10/dist-packages (from datasets->ragas==0.1.15->-r RAGMeUp/server/requirements.txt (line 31)) (0.3.8)\n",
            "Requirement already satisfied: xxhash in /usr/local/lib/python3.10/dist-packages (from datasets->ragas==0.1.15->-r RAGMeUp/server/requirements.txt (line 31)) (3.5.0)\n",
            "Requirement already satisfied: multiprocess<0.70.17 in /usr/local/lib/python3.10/dist-packages (from datasets->ragas==0.1.15->-r RAGMeUp/server/requirements.txt (line 31)) (0.70.16)\n",
            "Requirement already satisfied: joblib in /usr/local/lib/python3.10/dist-packages (from nltk->unstructured==0.14.3->-r RAGMeUp/server/requirements.txt (line 18)) (1.4.2)\n",
            "Requirement already satisfied: coloredlogs in /usr/local/lib/python3.10/dist-packages (from onnxruntime->flashrank->-r RAGMeUp/server/requirements.txt (line 33)) (15.0.1)\n",
            "Requirement already satisfied: flatbuffers in /usr/local/lib/python3.10/dist-packages (from onnxruntime->flashrank->-r RAGMeUp/server/requirements.txt (line 33)) (24.3.25)\n",
            "Requirement already satisfied: threadpoolctl>=3.1.0 in /usr/local/lib/python3.10/dist-packages (from scikit-learn->sentence-transformers==2.6.1->-r RAGMeUp/server/requirements.txt (line 12)) (3.5.0)\n",
            "Requirement already satisfied: pyasn1<0.7.0,>=0.4.6 in /usr/local/lib/python3.10/dist-packages (from pyasn1-modules>=0.2.1->google-auth!=2.24.0,!=2.25.0,<3.0.0dev,>=2.14.1->google-ai-generativelanguage==0.6.6->-r RAGMeUp/server/requirements.txt (line 29)) (0.6.1)\n",
            "Requirement already satisfied: propcache>=0.2.0 in /usr/local/lib/python3.10/dist-packages (from yarl<2.0,>=1.12.0->aiohttp<4.0.0,>=3.8.3->langchain==0.2.11->-r RAGMeUp/server/requirements.txt (line 1)) (0.2.0)\n",
            "Requirement already satisfied: humanfriendly>=9.1 in /usr/local/lib/python3.10/dist-packages (from coloredlogs->onnxruntime->flashrank->-r RAGMeUp/server/requirements.txt (line 33)) (10.0)\n",
            "Requirement already satisfied: httplib2<1.dev0,>=0.19.0 in /usr/local/lib/python3.10/dist-packages (from google-api-python-client->google-generativeai<0.8.0,>=0.7.0->langchain-google-genai==1.0.7->-r RAGMeUp/server/requirements.txt (line 9)) (0.22.0)\n",
            "Requirement already satisfied: google-auth-httplib2<1.0.0,>=0.2.0 in /usr/local/lib/python3.10/dist-packages (from google-api-python-client->google-generativeai<0.8.0,>=0.7.0->langchain-google-genai==1.0.7->-r RAGMeUp/server/requirements.txt (line 9)) (0.2.0)\n",
            "Requirement already satisfied: uritemplate<5,>=3.0.1 in /usr/local/lib/python3.10/dist-packages (from google-api-python-client->google-generativeai<0.8.0,>=0.7.0->langchain-google-genai==1.0.7->-r RAGMeUp/server/requirements.txt (line 9)) (4.1.1)\n",
            "Requirement already satisfied: pyparsing!=3.0.0,!=3.0.1,!=3.0.2,!=3.0.3,<4,>=2.4.2 in /usr/local/lib/python3.10/dist-packages (from httplib2<1.dev0,>=0.19.0->google-api-python-client->google-generativeai<0.8.0,>=0.7.0->langchain-google-genai==1.0.7->-r RAGMeUp/server/requirements.txt (line 9)) (3.2.0)\n"
          ]
        }
      ],
      "source": [
        "!pip install -r RAGMeUp/server/requirements.txt"
      ]
    },
    {
      "cell_type": "code",
      "execution_count": null,
      "metadata": {
        "id": "9nHhDFGZlCQP",
        "colab": {
          "base_uri": "https://localhost:8080/"
        },
        "outputId": "228c5119-054c-454e-ba7c-a57fbff8b142"
      },
      "outputs": [
        {
          "output_type": "stream",
          "name": "stdout",
          "text": [
            "Requirement already satisfied: pyngrok in /usr/local/lib/python3.10/dist-packages (7.2.1)\n",
            "Requirement already satisfied: PyYAML>=5.1 in /usr/local/lib/python3.10/dist-packages (from pyngrok) (6.0.2)\n",
            "authtoken - \n",
            "\n",
            "USAGE:\n",
            "  ngrok authtoken TOKEN [flags]\n",
            "\n",
            "AUTHOR:\n",
            "  ngrok - <support@ngrok.com>\n",
            "\n",
            "COMMANDS: \n",
            "  config          update or migrate ngrok's configuration file\n",
            "  http            start an HTTP tunnel\n",
            "  tcp             start a TCP tunnel\n",
            "  tunnel          start a tunnel for use with a tunnel-group backend\n",
            "\n",
            "EXAMPLES: \n",
            "  ngrok http 80                                                 # secure public URL for port 80 web server\n",
            "  ngrok http --url baz.ngrok.dev 8080                           # port 8080 available at baz.ngrok.dev\n",
            "  ngrok tcp 22                                                  # tunnel arbitrary TCP traffic to port 22\n",
            "  ngrok http 80 --oauth=google --oauth-allow-email=foo@foo.com  # secure your app with oauth\n",
            "\n",
            "Paid Features: \n",
            "  ngrok http 80 --url mydomain.com                              # run ngrok with your own custom domain\n",
            "  ngrok http 80 --cidr-allow 2600:8c00::a03c:91ee:fe69:9695/32  # run ngrok with IP policy restrictions\n",
            "  Upgrade your account at https://dashboard.ngrok.com/billing/subscription to access paid features\n",
            "\n",
            "Upgrade your account at https://dashboard.ngrok.com/billing/subscription to access paid features\n",
            "\n",
            "Flags:\n",
            "  -h, --help      help for ngrok\n",
            "\n",
            "Use \"ngrok [command] --help\" for more information about a command.\n",
            "\n",
            "ERROR:  accepts 1 arg(s), received 3\n"
          ]
        }
      ],
      "source": [
        "!pip install pyngrok\n",
        "!ngrok authtoken [YOUR TOKEN HERE]"
      ]
    },
    {
      "cell_type": "code",
      "execution_count": null,
      "metadata": {
        "colab": {
          "base_uri": "https://localhost:8080/"
        },
        "id": "Ia_OPalmnHKo",
        "outputId": "892f8dd8-166f-44d1-cc57-0ddc8c7e1f60"
      },
      "outputs": [
        {
          "output_type": "stream",
          "name": "stdout",
          "text": [
            "/content/RAGMeUp/server\n",
            "mv: cannot stat '.env.template': No such file or directory\n",
            "mkdir: cannot create directory ‘data’: File exists\n"
          ]
        }
      ],
      "source": [
        "%cd RAGMeUp/server\n",
        "\n",
        "!sed -i '1i\\from pyngrok import ngrok' server.py\n",
        "!sed -i '/if __name__ == \"__main__\":/,+1c\\public_url = ngrok.connect(5000)\\nprint(f\" * Tunnel URL: {public_url}\")\\n\\nif __name__ == '\\''__main__'\\'':\\n    app.run(port=5000)' server.py\n",
        "!mv .env.template .env\n",
        "!mkdir data\n",
        "!echo \"{\\\"text\\\":\\\"Abraham Lincoln (February 12, 1809 – April 15, 1865) was an American lawyer, politician, and statesman who served as the 16th president of the United States from 1861 until his assassination in 1865. He led the United States through the American Civil War, defending the nation as a constitutional union, defeating the insurgent Confederacy, playing a major role in the abolition of slavery, expanding the power of the federal government, and modernizing the U.S. economy.\\\"}\" >> data/lincoln.json\n",
        "!echo \"{\\\"text\\\":\\\"Ronald Wilson Reagan (February 6, 1911 – June 5, 2004) was an American politician and actor who served as the 40th president of the United States from 1981 to 1989. A member of the Republican Party, his presidency constituted the Reagan era, and he is considered one of the most prominent American conservative figures.\\\"}\" >> data/reagan.json"
      ]
    },
    {
      "cell_type": "code",
      "execution_count": null,
      "metadata": {
        "id": "wX4rdS7RDRR2"
      },
      "outputs": [],
      "source": [
        "!git config --global credential.helper store"
      ]
    },
    {
      "cell_type": "code",
      "execution_count": null,
      "metadata": {
        "colab": {
          "base_uri": "https://localhost:8080/"
        },
        "id": "9kuvnGwCC9z0",
        "outputId": "3640bb71-34a6-4c2b-8f29-d2946bdd3024"
      },
      "outputs": [
        {
          "output_type": "stream",
          "name": "stdout",
          "text": [
            "\n",
            "    _|    _|  _|    _|    _|_|_|    _|_|_|  _|_|_|  _|      _|    _|_|_|      _|_|_|_|    _|_|      _|_|_|  _|_|_|_|\n",
            "    _|    _|  _|    _|  _|        _|          _|    _|_|    _|  _|            _|        _|    _|  _|        _|\n",
            "    _|_|_|_|  _|    _|  _|  _|_|  _|  _|_|    _|    _|  _|  _|  _|  _|_|      _|_|_|    _|_|_|_|  _|        _|_|_|\n",
            "    _|    _|  _|    _|  _|    _|  _|    _|    _|    _|    _|_|  _|    _|      _|        _|    _|  _|        _|\n",
            "    _|    _|    _|_|      _|_|_|    _|_|_|  _|_|_|  _|      _|    _|_|_|      _|        _|    _|    _|_|_|  _|_|_|_|\n",
            "\n",
            "    To log in, `huggingface_hub` requires a token generated from https://huggingface.co/settings/tokens .\n",
            "Enter your token (input will not be visible): "
          ]
        }
      ],
      "source": [
        "!huggingface-cli login"
      ]
    },
    {
      "cell_type": "code",
      "execution_count": null,
      "metadata": {
        "id": "JOG8dHPQoMhp"
      },
      "outputs": [],
      "source": [
        "!python server.py"
      ]
    }
  ],
  "metadata": {
    "accelerator": "GPU",
    "colab": {
      "gpuType": "T4",
      "provenance": [],
      "include_colab_link": true
    },
    "kernelspec": {
      "display_name": "Python 3",
      "name": "python3"
    },
    "language_info": {
      "name": "python"
    }
  },
  "nbformat": 4,
  "nbformat_minor": 0
}